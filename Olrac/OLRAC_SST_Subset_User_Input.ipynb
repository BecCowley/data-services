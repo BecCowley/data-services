{
 "cells": [
  {
   "cell_type": "markdown",
   "metadata": {},
   "source": [
    "# Get AODN SST data and subset to region\n",
    "\n",
    "User can input the central lat/lon coordinate and sepcify a distance from this location to extract SST data from the AODN S3 bucket. \n",
    "\n",
    "Defaults are most recent file. If required a specific date currently accepts format of YYYYMMDD\n",
    "\n",
    "Input in latitude and longitude, defaults to lon = 144.0, lat = -39.9\n",
    "\n",
    "Distance defaults to 50km unless user input is given."
   ]
  },
  {
   "cell_type": "markdown",
   "metadata": {},
   "source": [
    "## Required Packages\n",
    "\n",
    "* xarray\n",
    "* import s3fs\n",
    "* datetime\n",
    "* pyproj\n",
    "* numpy\n",
    "* rioxarray\n",
    "* rasterio\n"
   ]
  },
  {
   "cell_type": "code",
   "execution_count": 1,
   "metadata": {},
   "outputs": [
    {
     "name": "stdout",
     "output_type": "stream",
     "text": [
      "Bounding box: (143.47969465488242, -40.30830346498116, 144.64830534511756, -39.407661469796146)\n",
      "File Found: 20240529212000-ABOM-L3S_GHRSST-SSTfnd-MultiSensor-6d_dn.nc\n",
      "1. Opening Dataset...\n",
      "2. Exporting to Geotiff...\n",
      "GeoTIFF saved as SST_20240529_SSTfnd-MultiSensor-6d_dn_-40.31_-39.41_143.48_144.65.tif\n"
     ]
    }
   ],
   "source": [
    "# Import the function from the script\n",
    "from aodn_sst2geotiff import process_sst_data\n",
    "from datetime import datetime, timedelta\n",
    "\n",
    "desired_date = input(\"Enter the desired date (YYYYMMDD): \").strip() or datetime.today().strftime('%Y%m%d')\n",
    "lon = float(input(f\"Enter the central longitude: \").strip() or 144.064)\n",
    "lat = float(input(f\"Enter the central latitude: \").strip() or -39.858)\n",
    "distance_km = float(input(f\"Enter the distance from central coordinates in kilometers: \").strip() or 50)\n",
    "\n",
    "\n",
    "# Call the function with desired parameters\n",
    "process_sst_data(\n",
    "    desired_date=desired_date,\n",
    "    lon=lon,\n",
    "    lat=lat,\n",
    "    distance_km=distance_km\n",
    ")"
   ]
  }
 ],
 "metadata": {
  "kernelspec": {
   "display_name": "MambaEnv",
   "language": "python",
   "name": "python3"
  },
  "language_info": {
   "codemirror_mode": {
    "name": "ipython",
    "version": 3
   },
   "file_extension": ".py",
   "mimetype": "text/x-python",
   "name": "python",
   "nbconvert_exporter": "python",
   "pygments_lexer": "ipython3",
   "version": "3.12.3"
  }
 },
 "nbformat": 4,
 "nbformat_minor": 2
}
